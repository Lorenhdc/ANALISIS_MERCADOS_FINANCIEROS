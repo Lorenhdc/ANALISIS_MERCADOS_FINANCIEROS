{
 "cells": [
  {
   "cell_type": "code",
   "execution_count": 75,
   "metadata": {},
   "outputs": [],
   "source": [
    "import pandas as pd\n",
    "import numpy as np\n",
    "import matplotlib.pyplot as plt\n",
    "import seaborn as sns\n",
    "import plotly.graph_objs as go\n",
    "from plotly.offline import iplot\n",
    "from sklearn import preprocessing\n",
    "import os"
   ]
  },
  {
   "cell_type": "code",
   "execution_count": 76,
   "metadata": {},
   "outputs": [
    {
     "data": {
      "text/html": [
       "        <script type=\"text/javascript\">\n",
       "        window.PlotlyConfig = {MathJaxConfig: 'local'};\n",
       "        if (window.MathJax) {MathJax.Hub.Config({SVG: {font: \"STIX-Web\"}});}\n",
       "        if (typeof require !== 'undefined') {\n",
       "        require.undef(\"plotly\");\n",
       "        requirejs.config({\n",
       "            paths: {\n",
       "                'plotly': ['https://cdn.plot.ly/plotly-2.9.0.min']\n",
       "            }\n",
       "        });\n",
       "        require(['plotly'], function(Plotly) {\n",
       "            window._Plotly = Plotly;\n",
       "        });\n",
       "        }\n",
       "        </script>\n",
       "        "
      ]
     },
     "metadata": {},
     "output_type": "display_data"
    }
   ],
   "source": [
    "\n",
    "# This Python 3 environment comes with many helpful analytics libraries installed\n",
    "# It is defined by the kaggle/python docker image: https://github.com/kaggle/docker-python\n",
    "# For example, here's several helpful packages to load in \n",
    "\n",
    "import numpy as np # linear algebra\n",
    "import pandas as pd # data processing, CSV file I/O (e.g. pd.read_csv)\n",
    "\n",
    "# plotly\n",
    "# import plotly.plotly as py\n",
    "from plotly.offline import init_notebook_mode, iplot, plot\n",
    "import plotly as py\n",
    "init_notebook_mode(connected=True)\n",
    "import plotly.graph_objs as go\n",
    "\n",
    "# word cloud library\n",
    "from wordcloud import WordCloud\n",
    "\n",
    "# matplotlib\n",
    "import matplotlib.pyplot as plt\n",
    "# Input data files are available in the \"../input/\" directory.\n",
    "# For example, running this (by clicking run or pressing Shift+Enter) will list the files in the input directory\n",
    "\n",
    "\n",
    "# Any results you write to the current directory are saved as output.\n",
    "\n",
    "import warnings\n",
    "warnings.filterwarnings(\"ignore\")"
   ]
  },
  {
   "cell_type": "code",
   "execution_count": 78,
   "metadata": {},
   "outputs": [
    {
     "data": {
      "text/html": [
       "<div>\n",
       "<style scoped>\n",
       "    .dataframe tbody tr th:only-of-type {\n",
       "        vertical-align: middle;\n",
       "    }\n",
       "\n",
       "    .dataframe tbody tr th {\n",
       "        vertical-align: top;\n",
       "    }\n",
       "\n",
       "    .dataframe thead th {\n",
       "        text-align: right;\n",
       "    }\n",
       "</style>\n",
       "<table border=\"1\" class=\"dataframe\">\n",
       "  <thead>\n",
       "    <tr style=\"text-align: right;\">\n",
       "      <th></th>\n",
       "      <th>Date</th>\n",
       "      <th>NOMBRE</th>\n",
       "      <th>AREA</th>\n",
       "      <th>TIPO</th>\n",
       "      <th>SECTOR</th>\n",
       "      <th>PRECIO</th>\n",
       "      <th>PRECIO NORMALIADO MAX</th>\n",
       "      <th>PRECIO NORMALIADO MIN</th>\n",
       "      <th>RENTABILIDAD SEMANAL</th>\n",
       "      <th>RENTABILIDAD MENSUAL</th>\n",
       "      <th>RENTABILIDAD ANUAL</th>\n",
       "      <th>RENTABILIDAD BIANUAL</th>\n",
       "      <th>RENTABILIDAD LUSTRO</th>\n",
       "      <th>A 6 MESES</th>\n",
       "      <th>A 1 ANIO</th>\n",
       "      <th>A 2 ANIOS</th>\n",
       "      <th>A 5 ANIOS</th>\n",
       "    </tr>\n",
       "  </thead>\n",
       "  <tbody>\n",
       "    <tr>\n",
       "      <th>0</th>\n",
       "      <td>2022-03-06</td>\n",
       "      <td>DAX</td>\n",
       "      <td>EUROPA</td>\n",
       "      <td>INDICE</td>\n",
       "      <td>NaN</td>\n",
       "      <td>13087.13</td>\n",
       "      <td>809.848657</td>\n",
       "      <td>13.981976</td>\n",
       "      <td>-0.000566</td>\n",
       "      <td>-0.151570</td>\n",
       "      <td>-0.097588</td>\n",
       "      <td>0.417571</td>\n",
       "      <td>0.093951</td>\n",
       "      <td>NaN</td>\n",
       "      <td>NaN</td>\n",
       "      <td>NaN</td>\n",
       "      <td>NaN</td>\n",
       "    </tr>\n",
       "    <tr>\n",
       "      <th>1</th>\n",
       "      <td>2022-02-27</td>\n",
       "      <td>DAX</td>\n",
       "      <td>EUROPA</td>\n",
       "      <td>INDICE</td>\n",
       "      <td>NaN</td>\n",
       "      <td>13094.54</td>\n",
       "      <td>810.307197</td>\n",
       "      <td>13.989893</td>\n",
       "      <td>-0.101096</td>\n",
       "      <td>-0.132787</td>\n",
       "      <td>-0.059347</td>\n",
       "      <td>0.134525</td>\n",
       "      <td>0.088729</td>\n",
       "      <td>NaN</td>\n",
       "      <td>NaN</td>\n",
       "      <td>NaN</td>\n",
       "      <td>NaN</td>\n",
       "    </tr>\n",
       "    <tr>\n",
       "      <th>2</th>\n",
       "      <td>2022-02-20</td>\n",
       "      <td>DAX</td>\n",
       "      <td>EUROPA</td>\n",
       "      <td>INDICE</td>\n",
       "      <td>NaN</td>\n",
       "      <td>14567.23</td>\n",
       "      <td>901.439173</td>\n",
       "      <td>15.563280</td>\n",
       "      <td>-0.031596</td>\n",
       "      <td>-0.049071</td>\n",
       "      <td>0.056646</td>\n",
       "      <td>0.225130</td>\n",
       "      <td>0.234090</td>\n",
       "      <td>NaN</td>\n",
       "      <td>NaN</td>\n",
       "      <td>NaN</td>\n",
       "      <td>NaN</td>\n",
       "    </tr>\n",
       "    <tr>\n",
       "      <th>3</th>\n",
       "      <td>2022-02-13</td>\n",
       "      <td>DAX</td>\n",
       "      <td>EUROPA</td>\n",
       "      <td>INDICE</td>\n",
       "      <td>NaN</td>\n",
       "      <td>15042.51</td>\n",
       "      <td>930.850119</td>\n",
       "      <td>16.071058</td>\n",
       "      <td>-0.024804</td>\n",
       "      <td>-0.035976</td>\n",
       "      <td>0.074985</td>\n",
       "      <td>0.107751</td>\n",
       "      <td>0.279449</td>\n",
       "      <td>NaN</td>\n",
       "      <td>NaN</td>\n",
       "      <td>NaN</td>\n",
       "      <td>NaN</td>\n",
       "    </tr>\n",
       "    <tr>\n",
       "      <th>4</th>\n",
       "      <td>2022-02-06</td>\n",
       "      <td>DAX</td>\n",
       "      <td>EUROPA</td>\n",
       "      <td>INDICE</td>\n",
       "      <td>NaN</td>\n",
       "      <td>15425.12</td>\n",
       "      <td>954.526524</td>\n",
       "      <td>16.479829</td>\n",
       "      <td>0.021561</td>\n",
       "      <td>-0.028843</td>\n",
       "      <td>0.097882</td>\n",
       "      <td>0.122299</td>\n",
       "      <td>0.322119</td>\n",
       "      <td>NaN</td>\n",
       "      <td>NaN</td>\n",
       "      <td>NaN</td>\n",
       "      <td>NaN</td>\n",
       "    </tr>\n",
       "    <tr>\n",
       "      <th>...</th>\n",
       "      <td>...</td>\n",
       "      <td>...</td>\n",
       "      <td>...</td>\n",
       "      <td>...</td>\n",
       "      <td>...</td>\n",
       "      <td>...</td>\n",
       "      <td>...</td>\n",
       "      <td>...</td>\n",
       "      <td>...</td>\n",
       "      <td>...</td>\n",
       "      <td>...</td>\n",
       "      <td>...</td>\n",
       "      <td>...</td>\n",
       "      <td>...</td>\n",
       "      <td>...</td>\n",
       "      <td>...</td>\n",
       "      <td>...</td>\n",
       "    </tr>\n",
       "    <tr>\n",
       "      <th>46328</th>\n",
       "      <td>1987-08-09</td>\n",
       "      <td>CAC 40</td>\n",
       "      <td>EUROPA</td>\n",
       "      <td>INDICE</td>\n",
       "      <td>NaN</td>\n",
       "      <td>1486.49</td>\n",
       "      <td>205.899871</td>\n",
       "      <td>1.663075</td>\n",
       "      <td>0.012699</td>\n",
       "      <td>0.016675</td>\n",
       "      <td>NaN</td>\n",
       "      <td>NaN</td>\n",
       "      <td>NaN</td>\n",
       "      <td>-0.010125</td>\n",
       "      <td>-0.128605</td>\n",
       "      <td>0.229951</td>\n",
       "      <td>0.179598</td>\n",
       "    </tr>\n",
       "    <tr>\n",
       "      <th>46329</th>\n",
       "      <td>1987-08-02</td>\n",
       "      <td>CAC 40</td>\n",
       "      <td>EUROPA</td>\n",
       "      <td>INDICE</td>\n",
       "      <td>NaN</td>\n",
       "      <td>1467.85</td>\n",
       "      <td>203.317967</td>\n",
       "      <td>1.642221</td>\n",
       "      <td>-0.013747</td>\n",
       "      <td>NaN</td>\n",
       "      <td>NaN</td>\n",
       "      <td>NaN</td>\n",
       "      <td>NaN</td>\n",
       "      <td>0.012699</td>\n",
       "      <td>-0.097673</td>\n",
       "      <td>0.237810</td>\n",
       "      <td>0.210798</td>\n",
       "    </tr>\n",
       "    <tr>\n",
       "      <th>46330</th>\n",
       "      <td>1987-07-26</td>\n",
       "      <td>CAC 40</td>\n",
       "      <td>EUROPA</td>\n",
       "      <td>INDICE</td>\n",
       "      <td>NaN</td>\n",
       "      <td>1488.31</td>\n",
       "      <td>206.151967</td>\n",
       "      <td>1.665112</td>\n",
       "      <td>0.003209</td>\n",
       "      <td>NaN</td>\n",
       "      <td>NaN</td>\n",
       "      <td>NaN</td>\n",
       "      <td>NaN</td>\n",
       "      <td>-0.013747</td>\n",
       "      <td>-0.112718</td>\n",
       "      <td>0.225712</td>\n",
       "      <td>0.178968</td>\n",
       "    </tr>\n",
       "    <tr>\n",
       "      <th>46331</th>\n",
       "      <td>1987-07-19</td>\n",
       "      <td>CAC 40</td>\n",
       "      <td>EUROPA</td>\n",
       "      <td>INDICE</td>\n",
       "      <td>NaN</td>\n",
       "      <td>1483.55</td>\n",
       "      <td>205.492639</td>\n",
       "      <td>1.659786</td>\n",
       "      <td>0.014664</td>\n",
       "      <td>NaN</td>\n",
       "      <td>NaN</td>\n",
       "      <td>NaN</td>\n",
       "      <td>NaN</td>\n",
       "      <td>0.003209</td>\n",
       "      <td>-0.123360</td>\n",
       "      <td>0.200937</td>\n",
       "      <td>0.169236</td>\n",
       "    </tr>\n",
       "    <tr>\n",
       "      <th>46332</th>\n",
       "      <td>1987-07-12</td>\n",
       "      <td>CAC 40</td>\n",
       "      <td>EUROPA</td>\n",
       "      <td>INDICE</td>\n",
       "      <td>NaN</td>\n",
       "      <td>1462.11</td>\n",
       "      <td>202.522896</td>\n",
       "      <td>1.635799</td>\n",
       "      <td>NaN</td>\n",
       "      <td>NaN</td>\n",
       "      <td>NaN</td>\n",
       "      <td>NaN</td>\n",
       "      <td>NaN</td>\n",
       "      <td>0.014664</td>\n",
       "      <td>-0.099637</td>\n",
       "      <td>0.200443</td>\n",
       "      <td>0.232315</td>\n",
       "    </tr>\n",
       "  </tbody>\n",
       "</table>\n",
       "<p>46333 rows × 17 columns</p>\n",
       "</div>"
      ],
      "text/plain": [
       "             Date  NOMBRE    AREA    TIPO SECTOR    PRECIO  \\\n",
       "0      2022-03-06     DAX  EUROPA  INDICE    NaN  13087.13   \n",
       "1      2022-02-27     DAX  EUROPA  INDICE    NaN  13094.54   \n",
       "2      2022-02-20     DAX  EUROPA  INDICE    NaN  14567.23   \n",
       "3      2022-02-13     DAX  EUROPA  INDICE    NaN  15042.51   \n",
       "4      2022-02-06     DAX  EUROPA  INDICE    NaN  15425.12   \n",
       "...           ...     ...     ...     ...    ...       ...   \n",
       "46328  1987-08-09  CAC 40  EUROPA  INDICE    NaN   1486.49   \n",
       "46329  1987-08-02  CAC 40  EUROPA  INDICE    NaN   1467.85   \n",
       "46330  1987-07-26  CAC 40  EUROPA  INDICE    NaN   1488.31   \n",
       "46331  1987-07-19  CAC 40  EUROPA  INDICE    NaN   1483.55   \n",
       "46332  1987-07-12  CAC 40  EUROPA  INDICE    NaN   1462.11   \n",
       "\n",
       "       PRECIO NORMALIADO MAX  PRECIO NORMALIADO MIN  RENTABILIDAD SEMANAL  \\\n",
       "0                 809.848657              13.981976             -0.000566   \n",
       "1                 810.307197              13.989893             -0.101096   \n",
       "2                 901.439173              15.563280             -0.031596   \n",
       "3                 930.850119              16.071058             -0.024804   \n",
       "4                 954.526524              16.479829              0.021561   \n",
       "...                      ...                    ...                   ...   \n",
       "46328             205.899871               1.663075              0.012699   \n",
       "46329             203.317967               1.642221             -0.013747   \n",
       "46330             206.151967               1.665112              0.003209   \n",
       "46331             205.492639               1.659786              0.014664   \n",
       "46332             202.522896               1.635799                   NaN   \n",
       "\n",
       "       RENTABILIDAD MENSUAL  RENTABILIDAD ANUAL  RENTABILIDAD BIANUAL  \\\n",
       "0                 -0.151570           -0.097588              0.417571   \n",
       "1                 -0.132787           -0.059347              0.134525   \n",
       "2                 -0.049071            0.056646              0.225130   \n",
       "3                 -0.035976            0.074985              0.107751   \n",
       "4                 -0.028843            0.097882              0.122299   \n",
       "...                     ...                 ...                   ...   \n",
       "46328              0.016675                 NaN                   NaN   \n",
       "46329                   NaN                 NaN                   NaN   \n",
       "46330                   NaN                 NaN                   NaN   \n",
       "46331                   NaN                 NaN                   NaN   \n",
       "46332                   NaN                 NaN                   NaN   \n",
       "\n",
       "       RENTABILIDAD LUSTRO  A 6 MESES  A 1 ANIO  A 2 ANIOS  A 5 ANIOS  \n",
       "0                 0.093951        NaN       NaN        NaN        NaN  \n",
       "1                 0.088729        NaN       NaN        NaN        NaN  \n",
       "2                 0.234090        NaN       NaN        NaN        NaN  \n",
       "3                 0.279449        NaN       NaN        NaN        NaN  \n",
       "4                 0.322119        NaN       NaN        NaN        NaN  \n",
       "...                    ...        ...       ...        ...        ...  \n",
       "46328                  NaN  -0.010125 -0.128605   0.229951   0.179598  \n",
       "46329                  NaN   0.012699 -0.097673   0.237810   0.210798  \n",
       "46330                  NaN  -0.013747 -0.112718   0.225712   0.178968  \n",
       "46331                  NaN   0.003209 -0.123360   0.200937   0.169236  \n",
       "46332                  NaN   0.014664 -0.099637   0.200443   0.232315  \n",
       "\n",
       "[46333 rows x 17 columns]"
      ]
     },
     "execution_count": 78,
     "metadata": {},
     "output_type": "execute_result"
    }
   ],
   "source": [
    "df = pd.read_csv('DATASETS_analisis1.csv')\n",
    "df"
   ]
  },
  {
   "cell_type": "code",
   "execution_count": 79,
   "metadata": {},
   "outputs": [
    {
     "data": {
      "text/html": [
       "<div>\n",
       "<style scoped>\n",
       "    .dataframe tbody tr th:only-of-type {\n",
       "        vertical-align: middle;\n",
       "    }\n",
       "\n",
       "    .dataframe tbody tr th {\n",
       "        vertical-align: top;\n",
       "    }\n",
       "\n",
       "    .dataframe thead th {\n",
       "        text-align: right;\n",
       "    }\n",
       "</style>\n",
       "<table border=\"1\" class=\"dataframe\">\n",
       "  <thead>\n",
       "    <tr style=\"text-align: right;\">\n",
       "      <th></th>\n",
       "      <th>Date</th>\n",
       "      <th>NOMBRE</th>\n",
       "      <th>AREA</th>\n",
       "      <th>TIPO</th>\n",
       "      <th>SECTOR</th>\n",
       "      <th>PRECIO</th>\n",
       "      <th>PRECIO NORMALIADO MAX</th>\n",
       "      <th>PRECIO NORMALIADO MIN</th>\n",
       "      <th>RENTABILIDAD SEMANAL</th>\n",
       "      <th>RENTABILIDAD MENSUAL</th>\n",
       "      <th>RENTABILIDAD ANUAL</th>\n",
       "      <th>RENTABILIDAD BIANUAL</th>\n",
       "      <th>RENTABILIDAD LUSTRO</th>\n",
       "      <th>A 6 MESES</th>\n",
       "      <th>A 1 ANIO</th>\n",
       "      <th>A 2 ANIOS</th>\n",
       "      <th>A 5 ANIOS</th>\n",
       "    </tr>\n",
       "  </thead>\n",
       "  <tbody>\n",
       "    <tr>\n",
       "      <th>0</th>\n",
       "      <td>2022-03-06</td>\n",
       "      <td>DAX</td>\n",
       "      <td>EUROPA</td>\n",
       "      <td>INDICE</td>\n",
       "      <td>NaN</td>\n",
       "      <td>13087.13</td>\n",
       "      <td>809.848657</td>\n",
       "      <td>13.981976</td>\n",
       "      <td>-0.000566</td>\n",
       "      <td>-0.151570</td>\n",
       "      <td>-0.097588</td>\n",
       "      <td>0.417571</td>\n",
       "      <td>0.093951</td>\n",
       "      <td>NaN</td>\n",
       "      <td>NaN</td>\n",
       "      <td>NaN</td>\n",
       "      <td>NaN</td>\n",
       "    </tr>\n",
       "    <tr>\n",
       "      <th>1</th>\n",
       "      <td>2022-02-27</td>\n",
       "      <td>DAX</td>\n",
       "      <td>EUROPA</td>\n",
       "      <td>INDICE</td>\n",
       "      <td>NaN</td>\n",
       "      <td>13094.54</td>\n",
       "      <td>810.307197</td>\n",
       "      <td>13.989893</td>\n",
       "      <td>-0.101096</td>\n",
       "      <td>-0.132787</td>\n",
       "      <td>-0.059347</td>\n",
       "      <td>0.134525</td>\n",
       "      <td>0.088729</td>\n",
       "      <td>NaN</td>\n",
       "      <td>NaN</td>\n",
       "      <td>NaN</td>\n",
       "      <td>NaN</td>\n",
       "    </tr>\n",
       "    <tr>\n",
       "      <th>2</th>\n",
       "      <td>2022-02-20</td>\n",
       "      <td>DAX</td>\n",
       "      <td>EUROPA</td>\n",
       "      <td>INDICE</td>\n",
       "      <td>NaN</td>\n",
       "      <td>14567.23</td>\n",
       "      <td>901.439173</td>\n",
       "      <td>15.563280</td>\n",
       "      <td>-0.031596</td>\n",
       "      <td>-0.049071</td>\n",
       "      <td>0.056646</td>\n",
       "      <td>0.225130</td>\n",
       "      <td>0.234090</td>\n",
       "      <td>NaN</td>\n",
       "      <td>NaN</td>\n",
       "      <td>NaN</td>\n",
       "      <td>NaN</td>\n",
       "    </tr>\n",
       "    <tr>\n",
       "      <th>3</th>\n",
       "      <td>2022-02-13</td>\n",
       "      <td>DAX</td>\n",
       "      <td>EUROPA</td>\n",
       "      <td>INDICE</td>\n",
       "      <td>NaN</td>\n",
       "      <td>15042.51</td>\n",
       "      <td>930.850119</td>\n",
       "      <td>16.071058</td>\n",
       "      <td>-0.024804</td>\n",
       "      <td>-0.035976</td>\n",
       "      <td>0.074985</td>\n",
       "      <td>0.107751</td>\n",
       "      <td>0.279449</td>\n",
       "      <td>NaN</td>\n",
       "      <td>NaN</td>\n",
       "      <td>NaN</td>\n",
       "      <td>NaN</td>\n",
       "    </tr>\n",
       "    <tr>\n",
       "      <th>4</th>\n",
       "      <td>2022-02-06</td>\n",
       "      <td>DAX</td>\n",
       "      <td>EUROPA</td>\n",
       "      <td>INDICE</td>\n",
       "      <td>NaN</td>\n",
       "      <td>15425.12</td>\n",
       "      <td>954.526524</td>\n",
       "      <td>16.479829</td>\n",
       "      <td>0.021561</td>\n",
       "      <td>-0.028843</td>\n",
       "      <td>0.097882</td>\n",
       "      <td>0.122299</td>\n",
       "      <td>0.322119</td>\n",
       "      <td>NaN</td>\n",
       "      <td>NaN</td>\n",
       "      <td>NaN</td>\n",
       "      <td>NaN</td>\n",
       "    </tr>\n",
       "    <tr>\n",
       "      <th>...</th>\n",
       "      <td>...</td>\n",
       "      <td>...</td>\n",
       "      <td>...</td>\n",
       "      <td>...</td>\n",
       "      <td>...</td>\n",
       "      <td>...</td>\n",
       "      <td>...</td>\n",
       "      <td>...</td>\n",
       "      <td>...</td>\n",
       "      <td>...</td>\n",
       "      <td>...</td>\n",
       "      <td>...</td>\n",
       "      <td>...</td>\n",
       "      <td>...</td>\n",
       "      <td>...</td>\n",
       "      <td>...</td>\n",
       "      <td>...</td>\n",
       "    </tr>\n",
       "    <tr>\n",
       "      <th>46328</th>\n",
       "      <td>1987-08-09</td>\n",
       "      <td>CAC 40</td>\n",
       "      <td>EUROPA</td>\n",
       "      <td>INDICE</td>\n",
       "      <td>NaN</td>\n",
       "      <td>1486.49</td>\n",
       "      <td>205.899871</td>\n",
       "      <td>1.663075</td>\n",
       "      <td>0.012699</td>\n",
       "      <td>0.016675</td>\n",
       "      <td>NaN</td>\n",
       "      <td>NaN</td>\n",
       "      <td>NaN</td>\n",
       "      <td>-0.010125</td>\n",
       "      <td>-0.128605</td>\n",
       "      <td>0.229951</td>\n",
       "      <td>0.179598</td>\n",
       "    </tr>\n",
       "    <tr>\n",
       "      <th>46329</th>\n",
       "      <td>1987-08-02</td>\n",
       "      <td>CAC 40</td>\n",
       "      <td>EUROPA</td>\n",
       "      <td>INDICE</td>\n",
       "      <td>NaN</td>\n",
       "      <td>1467.85</td>\n",
       "      <td>203.317967</td>\n",
       "      <td>1.642221</td>\n",
       "      <td>-0.013747</td>\n",
       "      <td>NaN</td>\n",
       "      <td>NaN</td>\n",
       "      <td>NaN</td>\n",
       "      <td>NaN</td>\n",
       "      <td>0.012699</td>\n",
       "      <td>-0.097673</td>\n",
       "      <td>0.237810</td>\n",
       "      <td>0.210798</td>\n",
       "    </tr>\n",
       "    <tr>\n",
       "      <th>46330</th>\n",
       "      <td>1987-07-26</td>\n",
       "      <td>CAC 40</td>\n",
       "      <td>EUROPA</td>\n",
       "      <td>INDICE</td>\n",
       "      <td>NaN</td>\n",
       "      <td>1488.31</td>\n",
       "      <td>206.151967</td>\n",
       "      <td>1.665112</td>\n",
       "      <td>0.003209</td>\n",
       "      <td>NaN</td>\n",
       "      <td>NaN</td>\n",
       "      <td>NaN</td>\n",
       "      <td>NaN</td>\n",
       "      <td>-0.013747</td>\n",
       "      <td>-0.112718</td>\n",
       "      <td>0.225712</td>\n",
       "      <td>0.178968</td>\n",
       "    </tr>\n",
       "    <tr>\n",
       "      <th>46331</th>\n",
       "      <td>1987-07-19</td>\n",
       "      <td>CAC 40</td>\n",
       "      <td>EUROPA</td>\n",
       "      <td>INDICE</td>\n",
       "      <td>NaN</td>\n",
       "      <td>1483.55</td>\n",
       "      <td>205.492639</td>\n",
       "      <td>1.659786</td>\n",
       "      <td>0.014664</td>\n",
       "      <td>NaN</td>\n",
       "      <td>NaN</td>\n",
       "      <td>NaN</td>\n",
       "      <td>NaN</td>\n",
       "      <td>0.003209</td>\n",
       "      <td>-0.123360</td>\n",
       "      <td>0.200937</td>\n",
       "      <td>0.169236</td>\n",
       "    </tr>\n",
       "    <tr>\n",
       "      <th>46332</th>\n",
       "      <td>1987-07-12</td>\n",
       "      <td>CAC 40</td>\n",
       "      <td>EUROPA</td>\n",
       "      <td>INDICE</td>\n",
       "      <td>NaN</td>\n",
       "      <td>1462.11</td>\n",
       "      <td>202.522896</td>\n",
       "      <td>1.635799</td>\n",
       "      <td>NaN</td>\n",
       "      <td>NaN</td>\n",
       "      <td>NaN</td>\n",
       "      <td>NaN</td>\n",
       "      <td>NaN</td>\n",
       "      <td>0.014664</td>\n",
       "      <td>-0.099637</td>\n",
       "      <td>0.200443</td>\n",
       "      <td>0.232315</td>\n",
       "    </tr>\n",
       "  </tbody>\n",
       "</table>\n",
       "<p>19131 rows × 17 columns</p>\n",
       "</div>"
      ],
      "text/plain": [
       "            Date  NOMBRE    AREA    TIPO SECTOR    PRECIO  \\\n",
       "0     2022-03-06     DAX  EUROPA  INDICE    NaN  13087.13   \n",
       "1     2022-02-27     DAX  EUROPA  INDICE    NaN  13094.54   \n",
       "2     2022-02-20     DAX  EUROPA  INDICE    NaN  14567.23   \n",
       "3     2022-02-13     DAX  EUROPA  INDICE    NaN  15042.51   \n",
       "4     2022-02-06     DAX  EUROPA  INDICE    NaN  15425.12   \n",
       "...          ...     ...     ...     ...    ...       ...   \n",
       "46328 1987-08-09  CAC 40  EUROPA  INDICE    NaN   1486.49   \n",
       "46329 1987-08-02  CAC 40  EUROPA  INDICE    NaN   1467.85   \n",
       "46330 1987-07-26  CAC 40  EUROPA  INDICE    NaN   1488.31   \n",
       "46331 1987-07-19  CAC 40  EUROPA  INDICE    NaN   1483.55   \n",
       "46332 1987-07-12  CAC 40  EUROPA  INDICE    NaN   1462.11   \n",
       "\n",
       "       PRECIO NORMALIADO MAX  PRECIO NORMALIADO MIN  RENTABILIDAD SEMANAL  \\\n",
       "0                 809.848657              13.981976             -0.000566   \n",
       "1                 810.307197              13.989893             -0.101096   \n",
       "2                 901.439173              15.563280             -0.031596   \n",
       "3                 930.850119              16.071058             -0.024804   \n",
       "4                 954.526524              16.479829              0.021561   \n",
       "...                      ...                    ...                   ...   \n",
       "46328             205.899871               1.663075              0.012699   \n",
       "46329             203.317967               1.642221             -0.013747   \n",
       "46330             206.151967               1.665112              0.003209   \n",
       "46331             205.492639               1.659786              0.014664   \n",
       "46332             202.522896               1.635799                   NaN   \n",
       "\n",
       "       RENTABILIDAD MENSUAL  RENTABILIDAD ANUAL  RENTABILIDAD BIANUAL  \\\n",
       "0                 -0.151570           -0.097588              0.417571   \n",
       "1                 -0.132787           -0.059347              0.134525   \n",
       "2                 -0.049071            0.056646              0.225130   \n",
       "3                 -0.035976            0.074985              0.107751   \n",
       "4                 -0.028843            0.097882              0.122299   \n",
       "...                     ...                 ...                   ...   \n",
       "46328              0.016675                 NaN                   NaN   \n",
       "46329                   NaN                 NaN                   NaN   \n",
       "46330                   NaN                 NaN                   NaN   \n",
       "46331                   NaN                 NaN                   NaN   \n",
       "46332                   NaN                 NaN                   NaN   \n",
       "\n",
       "       RENTABILIDAD LUSTRO  A 6 MESES  A 1 ANIO  A 2 ANIOS  A 5 ANIOS  \n",
       "0                 0.093951        NaN       NaN        NaN        NaN  \n",
       "1                 0.088729        NaN       NaN        NaN        NaN  \n",
       "2                 0.234090        NaN       NaN        NaN        NaN  \n",
       "3                 0.279449        NaN       NaN        NaN        NaN  \n",
       "4                 0.322119        NaN       NaN        NaN        NaN  \n",
       "...                    ...        ...       ...        ...        ...  \n",
       "46328                  NaN  -0.010125 -0.128605   0.229951   0.179598  \n",
       "46329                  NaN   0.012699 -0.097673   0.237810   0.210798  \n",
       "46330                  NaN  -0.013747 -0.112718   0.225712   0.178968  \n",
       "46331                  NaN   0.003209 -0.123360   0.200937   0.169236  \n",
       "46332                  NaN   0.014664 -0.099637   0.200443   0.232315  \n",
       "\n",
       "[19131 rows x 17 columns]"
      ]
     },
     "execution_count": 79,
     "metadata": {},
     "output_type": "execute_result"
    }
   ],
   "source": [
    "df_indices = df[(df['TIPO']=='INDICE')|(df['NOMBRE']=='GOLD SPOT US DOLLAR')]\n",
    "df_indices['Date'] = pd.to_datetime(df_indices['Date'], format=\"%Y-%m-%d\")\n",
    "df_indices\n"
   ]
  },
  {
   "cell_type": "code",
   "execution_count": 69,
   "metadata": {},
   "outputs": [],
   "source": [
    "df_rl = pd.pivot_table(df_indices, values ='RENTABILIDAD LUSTRO', columns = 'NOMBRE',index='Date')\n",
    "df_rl.drop(['EURONEXT 100'], axis=1, inplace=True)\n",
    "df_rl.dropna(how='any', inplace=True)\n",
    "df_lustro = df_rl.iloc[-1,:]\n",
    "df_lustro= pd.DataFrame(df_lustro)\n",
    "df_lustro['RENTABILIDAD']=df_lustro['2022-02-27']\n",
    "df_lista1= list(df_lustro.index)\n",
    "df_lista2= list(df_lustro['RENTABILIDAD'])\n"
   ]
  },
  {
   "cell_type": "code",
   "execution_count": 70,
   "metadata": {},
   "outputs": [
    {
     "data": {
      "text/html": [
       "<div>\n",
       "<style scoped>\n",
       "    .dataframe tbody tr th:only-of-type {\n",
       "        vertical-align: middle;\n",
       "    }\n",
       "\n",
       "    .dataframe tbody tr th {\n",
       "        vertical-align: top;\n",
       "    }\n",
       "\n",
       "    .dataframe thead th {\n",
       "        text-align: right;\n",
       "    }\n",
       "</style>\n",
       "<table border=\"1\" class=\"dataframe\">\n",
       "  <thead>\n",
       "    <tr style=\"text-align: right;\">\n",
       "      <th></th>\n",
       "      <th>2022-02-27 00:00:00</th>\n",
       "      <th>RENTABILIDAD</th>\n",
       "    </tr>\n",
       "    <tr>\n",
       "      <th>NOMBRE</th>\n",
       "      <th></th>\n",
       "      <th></th>\n",
       "    </tr>\n",
       "  </thead>\n",
       "  <tbody>\n",
       "    <tr>\n",
       "      <th>CAC 40</th>\n",
       "      <td>0.213514</td>\n",
       "      <td>0.213514</td>\n",
       "    </tr>\n",
       "    <tr>\n",
       "      <th>DAX</th>\n",
       "      <td>0.088729</td>\n",
       "      <td>0.088729</td>\n",
       "    </tr>\n",
       "    <tr>\n",
       "      <th>DOW JONES INDUSTRIAL</th>\n",
       "      <td>0.600263</td>\n",
       "      <td>0.600263</td>\n",
       "    </tr>\n",
       "    <tr>\n",
       "      <th>GOLD SPOT US DOLLAR</th>\n",
       "      <td>0.594791</td>\n",
       "      <td>0.594791</td>\n",
       "    </tr>\n",
       "    <tr>\n",
       "      <th>IBEX 35</th>\n",
       "      <td>-0.212032</td>\n",
       "      <td>-0.212032</td>\n",
       "    </tr>\n",
       "    <tr>\n",
       "      <th>NASDAQ 100</th>\n",
       "      <td>1.575208</td>\n",
       "      <td>1.575208</td>\n",
       "    </tr>\n",
       "    <tr>\n",
       "      <th>NYSE COMPOSITE</th>\n",
       "      <td>0.390683</td>\n",
       "      <td>0.390683</td>\n",
       "    </tr>\n",
       "    <tr>\n",
       "      <th>S&amp;P 500</th>\n",
       "      <td>0.816472</td>\n",
       "      <td>0.816472</td>\n",
       "    </tr>\n",
       "  </tbody>\n",
       "</table>\n",
       "</div>"
      ],
      "text/plain": [
       "                      2022-02-27 00:00:00  RENTABILIDAD\n",
       "NOMBRE                                                 \n",
       "CAC 40                           0.213514      0.213514\n",
       "DAX                              0.088729      0.088729\n",
       "DOW JONES INDUSTRIAL             0.600263      0.600263\n",
       "GOLD SPOT US DOLLAR              0.594791      0.594791\n",
       "IBEX 35                         -0.212032     -0.212032\n",
       "NASDAQ 100                       1.575208      1.575208\n",
       "NYSE COMPOSITE                   0.390683      0.390683\n",
       "S&P 500                          0.816472      0.816472"
      ]
     },
     "execution_count": 70,
     "metadata": {},
     "output_type": "execute_result"
    }
   ],
   "source": [
    "df_lustro"
   ]
  },
  {
   "cell_type": "code",
   "execution_count": 71,
   "metadata": {},
   "outputs": [],
   "source": [
    "df_lustro5 = pd.DataFrame(list(zip(df_lista1,df_lista2)), columns=['NOMBRE', 'RENTABILIDAD'])\n",
    "df_lustro5.sort_values(by='RENTABILIDAD', inplace=True)\n",
    "\n"
   ]
  },
  {
   "cell_type": "code",
   "execution_count": 61,
   "metadata": {},
   "outputs": [],
   "source": [
    "def porcentaje(df):\n",
    "    df=round(df*100,2)\n",
    "    df=str(df).strip()\n",
    "    return df"
   ]
  },
  {
   "cell_type": "code",
   "execution_count": 64,
   "metadata": {},
   "outputs": [
    {
     "ename": "TypeError",
     "evalue": "can't multiply sequence by non-int of type 'float'",
     "output_type": "error",
     "traceback": [
      "\u001b[0;31m---------------------------------------------------------------------------\u001b[0m",
      "\u001b[0;31mTypeError\u001b[0m                                 Traceback (most recent call last)",
      "\u001b[1;32m/Users/lherrera/Desktop/Bootcamp_ds/Alumno/2-Data_Analysis/CARPETA DE TRABAJO/5o borrador.ipynb Cell 9'\u001b[0m in \u001b[0;36m<module>\u001b[0;34m\u001b[0m\n\u001b[0;32m----> <a href='vscode-notebook-cell:/Users/lherrera/Desktop/Bootcamp_ds/Alumno/2-Data_Analysis/CARPETA%20DE%20TRABAJO/5o%20borrador.ipynb#ch0000009?line=0'>1</a>\u001b[0m pocen5 \u001b[39m=\u001b[39m porcentaje(df_lustro5[\u001b[39m'\u001b[39;49m\u001b[39mRENTABILIDAD\u001b[39;49m\u001b[39m'\u001b[39;49m])\n\u001b[1;32m      <a href='vscode-notebook-cell:/Users/lherrera/Desktop/Bootcamp_ds/Alumno/2-Data_Analysis/CARPETA%20DE%20TRABAJO/5o%20borrador.ipynb#ch0000009?line=2'>3</a>\u001b[0m df_lustro5[\u001b[39m'\u001b[39m\u001b[39mRENTABILIDAD\u001b[39m\u001b[39m'\u001b[39m]\u001b[39m=\u001b[39mpocen5\n\u001b[1;32m      <a href='vscode-notebook-cell:/Users/lherrera/Desktop/Bootcamp_ds/Alumno/2-Data_Analysis/CARPETA%20DE%20TRABAJO/5o%20borrador.ipynb#ch0000009?line=3'>4</a>\u001b[0m df_lustro5\n",
      "\u001b[1;32m/Users/lherrera/Desktop/Bootcamp_ds/Alumno/2-Data_Analysis/CARPETA DE TRABAJO/5o borrador.ipynb Cell 8'\u001b[0m in \u001b[0;36mporcentaje\u001b[0;34m(df)\u001b[0m\n\u001b[1;32m      <a href='vscode-notebook-cell:/Users/lherrera/Desktop/Bootcamp_ds/Alumno/2-Data_Analysis/CARPETA%20DE%20TRABAJO/5o%20borrador.ipynb#ch0000010?line=0'>1</a>\u001b[0m \u001b[39mdef\u001b[39;00m \u001b[39mporcentaje\u001b[39m(df):\n\u001b[0;32m----> <a href='vscode-notebook-cell:/Users/lherrera/Desktop/Bootcamp_ds/Alumno/2-Data_Analysis/CARPETA%20DE%20TRABAJO/5o%20borrador.ipynb#ch0000010?line=1'>2</a>\u001b[0m     df\u001b[39m=\u001b[39m\u001b[39mround\u001b[39;49m(df\u001b[39m*\u001b[39;49m\u001b[39m100\u001b[39;49m,\u001b[39m2\u001b[39;49m)\n\u001b[1;32m      <a href='vscode-notebook-cell:/Users/lherrera/Desktop/Bootcamp_ds/Alumno/2-Data_Analysis/CARPETA%20DE%20TRABAJO/5o%20borrador.ipynb#ch0000010?line=2'>3</a>\u001b[0m     df\u001b[39m=\u001b[39m\u001b[39mstr\u001b[39m(df)\u001b[39m.\u001b[39mstrip()\n\u001b[1;32m      <a href='vscode-notebook-cell:/Users/lherrera/Desktop/Bootcamp_ds/Alumno/2-Data_Analysis/CARPETA%20DE%20TRABAJO/5o%20borrador.ipynb#ch0000010?line=3'>4</a>\u001b[0m     \u001b[39mreturn\u001b[39;00m df\n",
      "File \u001b[0;32m/Library/Frameworks/Python.framework/Versions/3.8/lib/python3.8/site-packages/pandas/core/generic.py:1664\u001b[0m, in \u001b[0;36mNDFrame.__round__\u001b[0;34m(self, decimals)\u001b[0m\n\u001b[1;32m   <a href='file:///Library/Frameworks/Python.framework/Versions/3.8/lib/python3.8/site-packages/pandas/core/generic.py?line=1661'>1662</a>\u001b[0m \u001b[39m@final\u001b[39m\n\u001b[1;32m   <a href='file:///Library/Frameworks/Python.framework/Versions/3.8/lib/python3.8/site-packages/pandas/core/generic.py?line=1662'>1663</a>\u001b[0m \u001b[39mdef\u001b[39;00m \u001b[39m__round__\u001b[39m(\u001b[39mself\u001b[39m: NDFrameT, decimals: \u001b[39mint\u001b[39m \u001b[39m=\u001b[39m \u001b[39m0\u001b[39m) \u001b[39m-\u001b[39m\u001b[39m>\u001b[39m NDFrameT:\n\u001b[0;32m-> <a href='file:///Library/Frameworks/Python.framework/Versions/3.8/lib/python3.8/site-packages/pandas/core/generic.py?line=1663'>1664</a>\u001b[0m     \u001b[39mreturn\u001b[39;00m \u001b[39mself\u001b[39;49m\u001b[39m.\u001b[39;49mround(decimals)\n",
      "File \u001b[0;32m/Library/Frameworks/Python.framework/Versions/3.8/lib/python3.8/site-packages/pandas/core/series.py:2442\u001b[0m, in \u001b[0;36mSeries.round\u001b[0;34m(self, decimals, *args, **kwargs)\u001b[0m\n\u001b[1;32m   <a href='file:///Library/Frameworks/Python.framework/Versions/3.8/lib/python3.8/site-packages/pandas/core/series.py?line=2409'>2410</a>\u001b[0m \u001b[39m\"\"\"\u001b[39;00m\n\u001b[1;32m   <a href='file:///Library/Frameworks/Python.framework/Versions/3.8/lib/python3.8/site-packages/pandas/core/series.py?line=2410'>2411</a>\u001b[0m \u001b[39mRound each value in a Series to the given number of decimals.\u001b[39;00m\n\u001b[1;32m   <a href='file:///Library/Frameworks/Python.framework/Versions/3.8/lib/python3.8/site-packages/pandas/core/series.py?line=2411'>2412</a>\u001b[0m \n\u001b[0;32m   (...)\u001b[0m\n\u001b[1;32m   <a href='file:///Library/Frameworks/Python.framework/Versions/3.8/lib/python3.8/site-packages/pandas/core/series.py?line=2438'>2439</a>\u001b[0m \u001b[39mdtype: float64\u001b[39;00m\n\u001b[1;32m   <a href='file:///Library/Frameworks/Python.framework/Versions/3.8/lib/python3.8/site-packages/pandas/core/series.py?line=2439'>2440</a>\u001b[0m \u001b[39m\"\"\"\u001b[39;00m\n\u001b[1;32m   <a href='file:///Library/Frameworks/Python.framework/Versions/3.8/lib/python3.8/site-packages/pandas/core/series.py?line=2440'>2441</a>\u001b[0m nv\u001b[39m.\u001b[39mvalidate_round(args, kwargs)\n\u001b[0;32m-> <a href='file:///Library/Frameworks/Python.framework/Versions/3.8/lib/python3.8/site-packages/pandas/core/series.py?line=2441'>2442</a>\u001b[0m result \u001b[39m=\u001b[39m \u001b[39mself\u001b[39;49m\u001b[39m.\u001b[39;49m_values\u001b[39m.\u001b[39;49mround(decimals)\n\u001b[1;32m   <a href='file:///Library/Frameworks/Python.framework/Versions/3.8/lib/python3.8/site-packages/pandas/core/series.py?line=2442'>2443</a>\u001b[0m result \u001b[39m=\u001b[39m \u001b[39mself\u001b[39m\u001b[39m.\u001b[39m_constructor(result, index\u001b[39m=\u001b[39m\u001b[39mself\u001b[39m\u001b[39m.\u001b[39mindex)\u001b[39m.\u001b[39m__finalize__(\n\u001b[1;32m   <a href='file:///Library/Frameworks/Python.framework/Versions/3.8/lib/python3.8/site-packages/pandas/core/series.py?line=2443'>2444</a>\u001b[0m     \u001b[39mself\u001b[39m, method\u001b[39m=\u001b[39m\u001b[39m\"\u001b[39m\u001b[39mround\u001b[39m\u001b[39m\"\u001b[39m\n\u001b[1;32m   <a href='file:///Library/Frameworks/Python.framework/Versions/3.8/lib/python3.8/site-packages/pandas/core/series.py?line=2444'>2445</a>\u001b[0m )\n\u001b[1;32m   <a href='file:///Library/Frameworks/Python.framework/Versions/3.8/lib/python3.8/site-packages/pandas/core/series.py?line=2446'>2447</a>\u001b[0m \u001b[39mreturn\u001b[39;00m result\n",
      "\u001b[0;31mTypeError\u001b[0m: can't multiply sequence by non-int of type 'float'"
     ]
    }
   ],
   "source": [
    "\n"
   ]
  },
  {
   "cell_type": "code",
   "execution_count": 36,
   "metadata": {},
   "outputs": [],
   "source": [
    "import plotly.express as px\n"
   ]
  },
  {
   "cell_type": "code",
   "execution_count": 74,
   "metadata": {},
   "outputs": [
    {
     "data": {
      "text/html": [
       "<div>\n",
       "<style scoped>\n",
       "    .dataframe tbody tr th:only-of-type {\n",
       "        vertical-align: middle;\n",
       "    }\n",
       "\n",
       "    .dataframe tbody tr th {\n",
       "        vertical-align: top;\n",
       "    }\n",
       "\n",
       "    .dataframe thead th {\n",
       "        text-align: right;\n",
       "    }\n",
       "</style>\n",
       "<table border=\"1\" class=\"dataframe\">\n",
       "  <thead>\n",
       "    <tr style=\"text-align: right;\">\n",
       "      <th></th>\n",
       "      <th>2022-02-27 00:00:00</th>\n",
       "      <th>RENTABILIDAD</th>\n",
       "    </tr>\n",
       "    <tr>\n",
       "      <th>NOMBRE</th>\n",
       "      <th></th>\n",
       "      <th></th>\n",
       "    </tr>\n",
       "  </thead>\n",
       "  <tbody>\n",
       "    <tr>\n",
       "      <th>CAC 40</th>\n",
       "      <td>0.213514</td>\n",
       "      <td>0.213514</td>\n",
       "    </tr>\n",
       "    <tr>\n",
       "      <th>DAX</th>\n",
       "      <td>0.088729</td>\n",
       "      <td>0.088729</td>\n",
       "    </tr>\n",
       "    <tr>\n",
       "      <th>DOW JONES INDUSTRIAL</th>\n",
       "      <td>0.600263</td>\n",
       "      <td>0.600263</td>\n",
       "    </tr>\n",
       "    <tr>\n",
       "      <th>GOLD SPOT US DOLLAR</th>\n",
       "      <td>0.594791</td>\n",
       "      <td>0.594791</td>\n",
       "    </tr>\n",
       "    <tr>\n",
       "      <th>IBEX 35</th>\n",
       "      <td>-0.212032</td>\n",
       "      <td>-0.212032</td>\n",
       "    </tr>\n",
       "    <tr>\n",
       "      <th>NASDAQ 100</th>\n",
       "      <td>1.575208</td>\n",
       "      <td>1.575208</td>\n",
       "    </tr>\n",
       "    <tr>\n",
       "      <th>NYSE COMPOSITE</th>\n",
       "      <td>0.390683</td>\n",
       "      <td>0.390683</td>\n",
       "    </tr>\n",
       "    <tr>\n",
       "      <th>S&amp;P 500</th>\n",
       "      <td>0.816472</td>\n",
       "      <td>0.816472</td>\n",
       "    </tr>\n",
       "  </tbody>\n",
       "</table>\n",
       "</div>"
      ],
      "text/plain": [
       "                      2022-02-27 00:00:00  RENTABILIDAD\n",
       "NOMBRE                                                 \n",
       "CAC 40                           0.213514      0.213514\n",
       "DAX                              0.088729      0.088729\n",
       "DOW JONES INDUSTRIAL             0.600263      0.600263\n",
       "GOLD SPOT US DOLLAR              0.594791      0.594791\n",
       "IBEX 35                         -0.212032     -0.212032\n",
       "NASDAQ 100                       1.575208      1.575208\n",
       "NYSE COMPOSITE                   0.390683      0.390683\n",
       "S&P 500                          0.816472      0.816472"
      ]
     },
     "execution_count": 74,
     "metadata": {},
     "output_type": "execute_result"
    }
   ],
   "source": [
    "df_lustro"
   ]
  },
  {
   "cell_type": "code",
   "execution_count": 73,
   "metadata": {},
   "outputs": [
    {
     "data": {
      "application/vnd.plotly.v1+json": {
       "config": {
        "plotlyServerURL": "https://plotly.com"
       },
       "data": [
        {
         "alignmentgroup": "True",
         "hovertemplate": "NOMBRE=%{x}<br>RENTABILIDAD=%{y}<extra></extra>",
         "legendgroup": "",
         "marker": {
          "color": "#636efa",
          "pattern": {
           "shape": ""
          }
         },
         "name": "",
         "offsetgroup": "",
         "orientation": "v",
         "showlegend": false,
         "textposition": "auto",
         "type": "bar",
         "x": [
          "IBEX 35",
          "DAX",
          "CAC 40",
          "NYSE COMPOSITE",
          "GOLD SPOT US DOLLAR",
          "DOW JONES INDUSTRIAL",
          "S&P 500",
          "NASDAQ 100"
         ],
         "xaxis": "x",
         "y": [
          -0.2120324539470327,
          0.088729363717391,
          0.2135139625995719,
          0.3906831976824391,
          0.5947905695535932,
          0.6002634521756227,
          0.8164716841787237,
          1.5752082449362426
         ],
         "yaxis": "y"
        }
       ],
       "layout": {
        "barmode": "relative",
        "legend": {
         "tracegroupgap": 0
        },
        "margin": {
         "t": 60
        },
        "template": {
         "data": {
          "bar": [
           {
            "error_x": {
             "color": "#2a3f5f"
            },
            "error_y": {
             "color": "#2a3f5f"
            },
            "marker": {
             "line": {
              "color": "#E5ECF6",
              "width": 0.5
             },
             "pattern": {
              "fillmode": "overlay",
              "size": 10,
              "solidity": 0.2
             }
            },
            "type": "bar"
           }
          ],
          "barpolar": [
           {
            "marker": {
             "line": {
              "color": "#E5ECF6",
              "width": 0.5
             },
             "pattern": {
              "fillmode": "overlay",
              "size": 10,
              "solidity": 0.2
             }
            },
            "type": "barpolar"
           }
          ],
          "carpet": [
           {
            "aaxis": {
             "endlinecolor": "#2a3f5f",
             "gridcolor": "white",
             "linecolor": "white",
             "minorgridcolor": "white",
             "startlinecolor": "#2a3f5f"
            },
            "baxis": {
             "endlinecolor": "#2a3f5f",
             "gridcolor": "white",
             "linecolor": "white",
             "minorgridcolor": "white",
             "startlinecolor": "#2a3f5f"
            },
            "type": "carpet"
           }
          ],
          "choropleth": [
           {
            "colorbar": {
             "outlinewidth": 0,
             "ticks": ""
            },
            "type": "choropleth"
           }
          ],
          "contour": [
           {
            "colorbar": {
             "outlinewidth": 0,
             "ticks": ""
            },
            "colorscale": [
             [
              0,
              "#0d0887"
             ],
             [
              0.1111111111111111,
              "#46039f"
             ],
             [
              0.2222222222222222,
              "#7201a8"
             ],
             [
              0.3333333333333333,
              "#9c179e"
             ],
             [
              0.4444444444444444,
              "#bd3786"
             ],
             [
              0.5555555555555556,
              "#d8576b"
             ],
             [
              0.6666666666666666,
              "#ed7953"
             ],
             [
              0.7777777777777778,
              "#fb9f3a"
             ],
             [
              0.8888888888888888,
              "#fdca26"
             ],
             [
              1,
              "#f0f921"
             ]
            ],
            "type": "contour"
           }
          ],
          "contourcarpet": [
           {
            "colorbar": {
             "outlinewidth": 0,
             "ticks": ""
            },
            "type": "contourcarpet"
           }
          ],
          "heatmap": [
           {
            "colorbar": {
             "outlinewidth": 0,
             "ticks": ""
            },
            "colorscale": [
             [
              0,
              "#0d0887"
             ],
             [
              0.1111111111111111,
              "#46039f"
             ],
             [
              0.2222222222222222,
              "#7201a8"
             ],
             [
              0.3333333333333333,
              "#9c179e"
             ],
             [
              0.4444444444444444,
              "#bd3786"
             ],
             [
              0.5555555555555556,
              "#d8576b"
             ],
             [
              0.6666666666666666,
              "#ed7953"
             ],
             [
              0.7777777777777778,
              "#fb9f3a"
             ],
             [
              0.8888888888888888,
              "#fdca26"
             ],
             [
              1,
              "#f0f921"
             ]
            ],
            "type": "heatmap"
           }
          ],
          "heatmapgl": [
           {
            "colorbar": {
             "outlinewidth": 0,
             "ticks": ""
            },
            "colorscale": [
             [
              0,
              "#0d0887"
             ],
             [
              0.1111111111111111,
              "#46039f"
             ],
             [
              0.2222222222222222,
              "#7201a8"
             ],
             [
              0.3333333333333333,
              "#9c179e"
             ],
             [
              0.4444444444444444,
              "#bd3786"
             ],
             [
              0.5555555555555556,
              "#d8576b"
             ],
             [
              0.6666666666666666,
              "#ed7953"
             ],
             [
              0.7777777777777778,
              "#fb9f3a"
             ],
             [
              0.8888888888888888,
              "#fdca26"
             ],
             [
              1,
              "#f0f921"
             ]
            ],
            "type": "heatmapgl"
           }
          ],
          "histogram": [
           {
            "marker": {
             "pattern": {
              "fillmode": "overlay",
              "size": 10,
              "solidity": 0.2
             }
            },
            "type": "histogram"
           }
          ],
          "histogram2d": [
           {
            "colorbar": {
             "outlinewidth": 0,
             "ticks": ""
            },
            "colorscale": [
             [
              0,
              "#0d0887"
             ],
             [
              0.1111111111111111,
              "#46039f"
             ],
             [
              0.2222222222222222,
              "#7201a8"
             ],
             [
              0.3333333333333333,
              "#9c179e"
             ],
             [
              0.4444444444444444,
              "#bd3786"
             ],
             [
              0.5555555555555556,
              "#d8576b"
             ],
             [
              0.6666666666666666,
              "#ed7953"
             ],
             [
              0.7777777777777778,
              "#fb9f3a"
             ],
             [
              0.8888888888888888,
              "#fdca26"
             ],
             [
              1,
              "#f0f921"
             ]
            ],
            "type": "histogram2d"
           }
          ],
          "histogram2dcontour": [
           {
            "colorbar": {
             "outlinewidth": 0,
             "ticks": ""
            },
            "colorscale": [
             [
              0,
              "#0d0887"
             ],
             [
              0.1111111111111111,
              "#46039f"
             ],
             [
              0.2222222222222222,
              "#7201a8"
             ],
             [
              0.3333333333333333,
              "#9c179e"
             ],
             [
              0.4444444444444444,
              "#bd3786"
             ],
             [
              0.5555555555555556,
              "#d8576b"
             ],
             [
              0.6666666666666666,
              "#ed7953"
             ],
             [
              0.7777777777777778,
              "#fb9f3a"
             ],
             [
              0.8888888888888888,
              "#fdca26"
             ],
             [
              1,
              "#f0f921"
             ]
            ],
            "type": "histogram2dcontour"
           }
          ],
          "mesh3d": [
           {
            "colorbar": {
             "outlinewidth": 0,
             "ticks": ""
            },
            "type": "mesh3d"
           }
          ],
          "parcoords": [
           {
            "line": {
             "colorbar": {
              "outlinewidth": 0,
              "ticks": ""
             }
            },
            "type": "parcoords"
           }
          ],
          "pie": [
           {
            "automargin": true,
            "type": "pie"
           }
          ],
          "scatter": [
           {
            "marker": {
             "colorbar": {
              "outlinewidth": 0,
              "ticks": ""
             }
            },
            "type": "scatter"
           }
          ],
          "scatter3d": [
           {
            "line": {
             "colorbar": {
              "outlinewidth": 0,
              "ticks": ""
             }
            },
            "marker": {
             "colorbar": {
              "outlinewidth": 0,
              "ticks": ""
             }
            },
            "type": "scatter3d"
           }
          ],
          "scattercarpet": [
           {
            "marker": {
             "colorbar": {
              "outlinewidth": 0,
              "ticks": ""
             }
            },
            "type": "scattercarpet"
           }
          ],
          "scattergeo": [
           {
            "marker": {
             "colorbar": {
              "outlinewidth": 0,
              "ticks": ""
             }
            },
            "type": "scattergeo"
           }
          ],
          "scattergl": [
           {
            "marker": {
             "colorbar": {
              "outlinewidth": 0,
              "ticks": ""
             }
            },
            "type": "scattergl"
           }
          ],
          "scattermapbox": [
           {
            "marker": {
             "colorbar": {
              "outlinewidth": 0,
              "ticks": ""
             }
            },
            "type": "scattermapbox"
           }
          ],
          "scatterpolar": [
           {
            "marker": {
             "colorbar": {
              "outlinewidth": 0,
              "ticks": ""
             }
            },
            "type": "scatterpolar"
           }
          ],
          "scatterpolargl": [
           {
            "marker": {
             "colorbar": {
              "outlinewidth": 0,
              "ticks": ""
             }
            },
            "type": "scatterpolargl"
           }
          ],
          "scatterternary": [
           {
            "marker": {
             "colorbar": {
              "outlinewidth": 0,
              "ticks": ""
             }
            },
            "type": "scatterternary"
           }
          ],
          "surface": [
           {
            "colorbar": {
             "outlinewidth": 0,
             "ticks": ""
            },
            "colorscale": [
             [
              0,
              "#0d0887"
             ],
             [
              0.1111111111111111,
              "#46039f"
             ],
             [
              0.2222222222222222,
              "#7201a8"
             ],
             [
              0.3333333333333333,
              "#9c179e"
             ],
             [
              0.4444444444444444,
              "#bd3786"
             ],
             [
              0.5555555555555556,
              "#d8576b"
             ],
             [
              0.6666666666666666,
              "#ed7953"
             ],
             [
              0.7777777777777778,
              "#fb9f3a"
             ],
             [
              0.8888888888888888,
              "#fdca26"
             ],
             [
              1,
              "#f0f921"
             ]
            ],
            "type": "surface"
           }
          ],
          "table": [
           {
            "cells": {
             "fill": {
              "color": "#EBF0F8"
             },
             "line": {
              "color": "white"
             }
            },
            "header": {
             "fill": {
              "color": "#C8D4E3"
             },
             "line": {
              "color": "white"
             }
            },
            "type": "table"
           }
          ]
         },
         "layout": {
          "annotationdefaults": {
           "arrowcolor": "#2a3f5f",
           "arrowhead": 0,
           "arrowwidth": 1
          },
          "autotypenumbers": "strict",
          "coloraxis": {
           "colorbar": {
            "outlinewidth": 0,
            "ticks": ""
           }
          },
          "colorscale": {
           "diverging": [
            [
             0,
             "#8e0152"
            ],
            [
             0.1,
             "#c51b7d"
            ],
            [
             0.2,
             "#de77ae"
            ],
            [
             0.3,
             "#f1b6da"
            ],
            [
             0.4,
             "#fde0ef"
            ],
            [
             0.5,
             "#f7f7f7"
            ],
            [
             0.6,
             "#e6f5d0"
            ],
            [
             0.7,
             "#b8e186"
            ],
            [
             0.8,
             "#7fbc41"
            ],
            [
             0.9,
             "#4d9221"
            ],
            [
             1,
             "#276419"
            ]
           ],
           "sequential": [
            [
             0,
             "#0d0887"
            ],
            [
             0.1111111111111111,
             "#46039f"
            ],
            [
             0.2222222222222222,
             "#7201a8"
            ],
            [
             0.3333333333333333,
             "#9c179e"
            ],
            [
             0.4444444444444444,
             "#bd3786"
            ],
            [
             0.5555555555555556,
             "#d8576b"
            ],
            [
             0.6666666666666666,
             "#ed7953"
            ],
            [
             0.7777777777777778,
             "#fb9f3a"
            ],
            [
             0.8888888888888888,
             "#fdca26"
            ],
            [
             1,
             "#f0f921"
            ]
           ],
           "sequentialminus": [
            [
             0,
             "#0d0887"
            ],
            [
             0.1111111111111111,
             "#46039f"
            ],
            [
             0.2222222222222222,
             "#7201a8"
            ],
            [
             0.3333333333333333,
             "#9c179e"
            ],
            [
             0.4444444444444444,
             "#bd3786"
            ],
            [
             0.5555555555555556,
             "#d8576b"
            ],
            [
             0.6666666666666666,
             "#ed7953"
            ],
            [
             0.7777777777777778,
             "#fb9f3a"
            ],
            [
             0.8888888888888888,
             "#fdca26"
            ],
            [
             1,
             "#f0f921"
            ]
           ]
          },
          "colorway": [
           "#636efa",
           "#EF553B",
           "#00cc96",
           "#ab63fa",
           "#FFA15A",
           "#19d3f3",
           "#FF6692",
           "#B6E880",
           "#FF97FF",
           "#FECB52"
          ],
          "font": {
           "color": "#2a3f5f"
          },
          "geo": {
           "bgcolor": "white",
           "lakecolor": "white",
           "landcolor": "#E5ECF6",
           "showlakes": true,
           "showland": true,
           "subunitcolor": "white"
          },
          "hoverlabel": {
           "align": "left"
          },
          "hovermode": "closest",
          "mapbox": {
           "style": "light"
          },
          "paper_bgcolor": "white",
          "plot_bgcolor": "#E5ECF6",
          "polar": {
           "angularaxis": {
            "gridcolor": "white",
            "linecolor": "white",
            "ticks": ""
           },
           "bgcolor": "#E5ECF6",
           "radialaxis": {
            "gridcolor": "white",
            "linecolor": "white",
            "ticks": ""
           }
          },
          "scene": {
           "xaxis": {
            "backgroundcolor": "#E5ECF6",
            "gridcolor": "white",
            "gridwidth": 2,
            "linecolor": "white",
            "showbackground": true,
            "ticks": "",
            "zerolinecolor": "white"
           },
           "yaxis": {
            "backgroundcolor": "#E5ECF6",
            "gridcolor": "white",
            "gridwidth": 2,
            "linecolor": "white",
            "showbackground": true,
            "ticks": "",
            "zerolinecolor": "white"
           },
           "zaxis": {
            "backgroundcolor": "#E5ECF6",
            "gridcolor": "white",
            "gridwidth": 2,
            "linecolor": "white",
            "showbackground": true,
            "ticks": "",
            "zerolinecolor": "white"
           }
          },
          "shapedefaults": {
           "line": {
            "color": "#2a3f5f"
           }
          },
          "ternary": {
           "aaxis": {
            "gridcolor": "white",
            "linecolor": "white",
            "ticks": ""
           },
           "baxis": {
            "gridcolor": "white",
            "linecolor": "white",
            "ticks": ""
           },
           "bgcolor": "#E5ECF6",
           "caxis": {
            "gridcolor": "white",
            "linecolor": "white",
            "ticks": ""
           }
          },
          "title": {
           "x": 0.05
          },
          "xaxis": {
           "automargin": true,
           "gridcolor": "white",
           "linecolor": "white",
           "ticks": "",
           "title": {
            "standoff": 15
           },
           "zerolinecolor": "white",
           "zerolinewidth": 2
          },
          "yaxis": {
           "automargin": true,
           "gridcolor": "white",
           "linecolor": "white",
           "ticks": "",
           "title": {
            "standoff": 15
           },
           "zerolinecolor": "white",
           "zerolinewidth": 2
          }
         }
        },
        "xaxis": {
         "anchor": "y",
         "domain": [
          0,
          1
         ],
         "title": {
          "text": "NOMBRE"
         }
        },
        "yaxis": {
         "anchor": "x",
         "domain": [
          0,
          1
         ],
         "title": {
          "text": "RENTABILIDAD"
         }
        }
       }
      },
      "text/html": [
       "<div>                            <div id=\"d9e4f24c-630b-472f-af45-b0df41dfffc5\" class=\"plotly-graph-div\" style=\"height:525px; width:100%;\"></div>            <script type=\"text/javascript\">                require([\"plotly\"], function(Plotly) {                    window.PLOTLYENV=window.PLOTLYENV || {};                                    if (document.getElementById(\"d9e4f24c-630b-472f-af45-b0df41dfffc5\")) {                    Plotly.newPlot(                        \"d9e4f24c-630b-472f-af45-b0df41dfffc5\",                        [{\"alignmentgroup\":\"True\",\"hovertemplate\":\"NOMBRE=%{x}<br>RENTABILIDAD=%{y}<extra></extra>\",\"legendgroup\":\"\",\"marker\":{\"color\":\"#636efa\",\"pattern\":{\"shape\":\"\"}},\"name\":\"\",\"offsetgroup\":\"\",\"orientation\":\"v\",\"showlegend\":false,\"textposition\":\"auto\",\"x\":[\"IBEX 35\",\"DAX\",\"CAC 40\",\"NYSE COMPOSITE\",\"GOLD SPOT US DOLLAR\",\"DOW JONES INDUSTRIAL\",\"S&P 500\",\"NASDAQ 100\"],\"xaxis\":\"x\",\"y\":[-0.2120324539470327,0.088729363717391,0.2135139625995719,0.3906831976824391,0.5947905695535932,0.6002634521756227,0.8164716841787237,1.5752082449362426],\"yaxis\":\"y\",\"type\":\"bar\"}],                        {\"template\":{\"data\":{\"bar\":[{\"error_x\":{\"color\":\"#2a3f5f\"},\"error_y\":{\"color\":\"#2a3f5f\"},\"marker\":{\"line\":{\"color\":\"#E5ECF6\",\"width\":0.5},\"pattern\":{\"fillmode\":\"overlay\",\"size\":10,\"solidity\":0.2}},\"type\":\"bar\"}],\"barpolar\":[{\"marker\":{\"line\":{\"color\":\"#E5ECF6\",\"width\":0.5},\"pattern\":{\"fillmode\":\"overlay\",\"size\":10,\"solidity\":0.2}},\"type\":\"barpolar\"}],\"carpet\":[{\"aaxis\":{\"endlinecolor\":\"#2a3f5f\",\"gridcolor\":\"white\",\"linecolor\":\"white\",\"minorgridcolor\":\"white\",\"startlinecolor\":\"#2a3f5f\"},\"baxis\":{\"endlinecolor\":\"#2a3f5f\",\"gridcolor\":\"white\",\"linecolor\":\"white\",\"minorgridcolor\":\"white\",\"startlinecolor\":\"#2a3f5f\"},\"type\":\"carpet\"}],\"choropleth\":[{\"colorbar\":{\"outlinewidth\":0,\"ticks\":\"\"},\"type\":\"choropleth\"}],\"contour\":[{\"colorbar\":{\"outlinewidth\":0,\"ticks\":\"\"},\"colorscale\":[[0.0,\"#0d0887\"],[0.1111111111111111,\"#46039f\"],[0.2222222222222222,\"#7201a8\"],[0.3333333333333333,\"#9c179e\"],[0.4444444444444444,\"#bd3786\"],[0.5555555555555556,\"#d8576b\"],[0.6666666666666666,\"#ed7953\"],[0.7777777777777778,\"#fb9f3a\"],[0.8888888888888888,\"#fdca26\"],[1.0,\"#f0f921\"]],\"type\":\"contour\"}],\"contourcarpet\":[{\"colorbar\":{\"outlinewidth\":0,\"ticks\":\"\"},\"type\":\"contourcarpet\"}],\"heatmap\":[{\"colorbar\":{\"outlinewidth\":0,\"ticks\":\"\"},\"colorscale\":[[0.0,\"#0d0887\"],[0.1111111111111111,\"#46039f\"],[0.2222222222222222,\"#7201a8\"],[0.3333333333333333,\"#9c179e\"],[0.4444444444444444,\"#bd3786\"],[0.5555555555555556,\"#d8576b\"],[0.6666666666666666,\"#ed7953\"],[0.7777777777777778,\"#fb9f3a\"],[0.8888888888888888,\"#fdca26\"],[1.0,\"#f0f921\"]],\"type\":\"heatmap\"}],\"heatmapgl\":[{\"colorbar\":{\"outlinewidth\":0,\"ticks\":\"\"},\"colorscale\":[[0.0,\"#0d0887\"],[0.1111111111111111,\"#46039f\"],[0.2222222222222222,\"#7201a8\"],[0.3333333333333333,\"#9c179e\"],[0.4444444444444444,\"#bd3786\"],[0.5555555555555556,\"#d8576b\"],[0.6666666666666666,\"#ed7953\"],[0.7777777777777778,\"#fb9f3a\"],[0.8888888888888888,\"#fdca26\"],[1.0,\"#f0f921\"]],\"type\":\"heatmapgl\"}],\"histogram\":[{\"marker\":{\"pattern\":{\"fillmode\":\"overlay\",\"size\":10,\"solidity\":0.2}},\"type\":\"histogram\"}],\"histogram2d\":[{\"colorbar\":{\"outlinewidth\":0,\"ticks\":\"\"},\"colorscale\":[[0.0,\"#0d0887\"],[0.1111111111111111,\"#46039f\"],[0.2222222222222222,\"#7201a8\"],[0.3333333333333333,\"#9c179e\"],[0.4444444444444444,\"#bd3786\"],[0.5555555555555556,\"#d8576b\"],[0.6666666666666666,\"#ed7953\"],[0.7777777777777778,\"#fb9f3a\"],[0.8888888888888888,\"#fdca26\"],[1.0,\"#f0f921\"]],\"type\":\"histogram2d\"}],\"histogram2dcontour\":[{\"colorbar\":{\"outlinewidth\":0,\"ticks\":\"\"},\"colorscale\":[[0.0,\"#0d0887\"],[0.1111111111111111,\"#46039f\"],[0.2222222222222222,\"#7201a8\"],[0.3333333333333333,\"#9c179e\"],[0.4444444444444444,\"#bd3786\"],[0.5555555555555556,\"#d8576b\"],[0.6666666666666666,\"#ed7953\"],[0.7777777777777778,\"#fb9f3a\"],[0.8888888888888888,\"#fdca26\"],[1.0,\"#f0f921\"]],\"type\":\"histogram2dcontour\"}],\"mesh3d\":[{\"colorbar\":{\"outlinewidth\":0,\"ticks\":\"\"},\"type\":\"mesh3d\"}],\"parcoords\":[{\"line\":{\"colorbar\":{\"outlinewidth\":0,\"ticks\":\"\"}},\"type\":\"parcoords\"}],\"pie\":[{\"automargin\":true,\"type\":\"pie\"}],\"scatter\":[{\"marker\":{\"colorbar\":{\"outlinewidth\":0,\"ticks\":\"\"}},\"type\":\"scatter\"}],\"scatter3d\":[{\"line\":{\"colorbar\":{\"outlinewidth\":0,\"ticks\":\"\"}},\"marker\":{\"colorbar\":{\"outlinewidth\":0,\"ticks\":\"\"}},\"type\":\"scatter3d\"}],\"scattercarpet\":[{\"marker\":{\"colorbar\":{\"outlinewidth\":0,\"ticks\":\"\"}},\"type\":\"scattercarpet\"}],\"scattergeo\":[{\"marker\":{\"colorbar\":{\"outlinewidth\":0,\"ticks\":\"\"}},\"type\":\"scattergeo\"}],\"scattergl\":[{\"marker\":{\"colorbar\":{\"outlinewidth\":0,\"ticks\":\"\"}},\"type\":\"scattergl\"}],\"scattermapbox\":[{\"marker\":{\"colorbar\":{\"outlinewidth\":0,\"ticks\":\"\"}},\"type\":\"scattermapbox\"}],\"scatterpolar\":[{\"marker\":{\"colorbar\":{\"outlinewidth\":0,\"ticks\":\"\"}},\"type\":\"scatterpolar\"}],\"scatterpolargl\":[{\"marker\":{\"colorbar\":{\"outlinewidth\":0,\"ticks\":\"\"}},\"type\":\"scatterpolargl\"}],\"scatterternary\":[{\"marker\":{\"colorbar\":{\"outlinewidth\":0,\"ticks\":\"\"}},\"type\":\"scatterternary\"}],\"surface\":[{\"colorbar\":{\"outlinewidth\":0,\"ticks\":\"\"},\"colorscale\":[[0.0,\"#0d0887\"],[0.1111111111111111,\"#46039f\"],[0.2222222222222222,\"#7201a8\"],[0.3333333333333333,\"#9c179e\"],[0.4444444444444444,\"#bd3786\"],[0.5555555555555556,\"#d8576b\"],[0.6666666666666666,\"#ed7953\"],[0.7777777777777778,\"#fb9f3a\"],[0.8888888888888888,\"#fdca26\"],[1.0,\"#f0f921\"]],\"type\":\"surface\"}],\"table\":[{\"cells\":{\"fill\":{\"color\":\"#EBF0F8\"},\"line\":{\"color\":\"white\"}},\"header\":{\"fill\":{\"color\":\"#C8D4E3\"},\"line\":{\"color\":\"white\"}},\"type\":\"table\"}]},\"layout\":{\"annotationdefaults\":{\"arrowcolor\":\"#2a3f5f\",\"arrowhead\":0,\"arrowwidth\":1},\"autotypenumbers\":\"strict\",\"coloraxis\":{\"colorbar\":{\"outlinewidth\":0,\"ticks\":\"\"}},\"colorscale\":{\"diverging\":[[0,\"#8e0152\"],[0.1,\"#c51b7d\"],[0.2,\"#de77ae\"],[0.3,\"#f1b6da\"],[0.4,\"#fde0ef\"],[0.5,\"#f7f7f7\"],[0.6,\"#e6f5d0\"],[0.7,\"#b8e186\"],[0.8,\"#7fbc41\"],[0.9,\"#4d9221\"],[1,\"#276419\"]],\"sequential\":[[0.0,\"#0d0887\"],[0.1111111111111111,\"#46039f\"],[0.2222222222222222,\"#7201a8\"],[0.3333333333333333,\"#9c179e\"],[0.4444444444444444,\"#bd3786\"],[0.5555555555555556,\"#d8576b\"],[0.6666666666666666,\"#ed7953\"],[0.7777777777777778,\"#fb9f3a\"],[0.8888888888888888,\"#fdca26\"],[1.0,\"#f0f921\"]],\"sequentialminus\":[[0.0,\"#0d0887\"],[0.1111111111111111,\"#46039f\"],[0.2222222222222222,\"#7201a8\"],[0.3333333333333333,\"#9c179e\"],[0.4444444444444444,\"#bd3786\"],[0.5555555555555556,\"#d8576b\"],[0.6666666666666666,\"#ed7953\"],[0.7777777777777778,\"#fb9f3a\"],[0.8888888888888888,\"#fdca26\"],[1.0,\"#f0f921\"]]},\"colorway\":[\"#636efa\",\"#EF553B\",\"#00cc96\",\"#ab63fa\",\"#FFA15A\",\"#19d3f3\",\"#FF6692\",\"#B6E880\",\"#FF97FF\",\"#FECB52\"],\"font\":{\"color\":\"#2a3f5f\"},\"geo\":{\"bgcolor\":\"white\",\"lakecolor\":\"white\",\"landcolor\":\"#E5ECF6\",\"showlakes\":true,\"showland\":true,\"subunitcolor\":\"white\"},\"hoverlabel\":{\"align\":\"left\"},\"hovermode\":\"closest\",\"mapbox\":{\"style\":\"light\"},\"paper_bgcolor\":\"white\",\"plot_bgcolor\":\"#E5ECF6\",\"polar\":{\"angularaxis\":{\"gridcolor\":\"white\",\"linecolor\":\"white\",\"ticks\":\"\"},\"bgcolor\":\"#E5ECF6\",\"radialaxis\":{\"gridcolor\":\"white\",\"linecolor\":\"white\",\"ticks\":\"\"}},\"scene\":{\"xaxis\":{\"backgroundcolor\":\"#E5ECF6\",\"gridcolor\":\"white\",\"gridwidth\":2,\"linecolor\":\"white\",\"showbackground\":true,\"ticks\":\"\",\"zerolinecolor\":\"white\"},\"yaxis\":{\"backgroundcolor\":\"#E5ECF6\",\"gridcolor\":\"white\",\"gridwidth\":2,\"linecolor\":\"white\",\"showbackground\":true,\"ticks\":\"\",\"zerolinecolor\":\"white\"},\"zaxis\":{\"backgroundcolor\":\"#E5ECF6\",\"gridcolor\":\"white\",\"gridwidth\":2,\"linecolor\":\"white\",\"showbackground\":true,\"ticks\":\"\",\"zerolinecolor\":\"white\"}},\"shapedefaults\":{\"line\":{\"color\":\"#2a3f5f\"}},\"ternary\":{\"aaxis\":{\"gridcolor\":\"white\",\"linecolor\":\"white\",\"ticks\":\"\"},\"baxis\":{\"gridcolor\":\"white\",\"linecolor\":\"white\",\"ticks\":\"\"},\"bgcolor\":\"#E5ECF6\",\"caxis\":{\"gridcolor\":\"white\",\"linecolor\":\"white\",\"ticks\":\"\"}},\"title\":{\"x\":0.05},\"xaxis\":{\"automargin\":true,\"gridcolor\":\"white\",\"linecolor\":\"white\",\"ticks\":\"\",\"title\":{\"standoff\":15},\"zerolinecolor\":\"white\",\"zerolinewidth\":2},\"yaxis\":{\"automargin\":true,\"gridcolor\":\"white\",\"linecolor\":\"white\",\"ticks\":\"\",\"title\":{\"standoff\":15},\"zerolinecolor\":\"white\",\"zerolinewidth\":2}}},\"xaxis\":{\"anchor\":\"y\",\"domain\":[0.0,1.0],\"title\":{\"text\":\"NOMBRE\"}},\"yaxis\":{\"anchor\":\"x\",\"domain\":[0.0,1.0],\"title\":{\"text\":\"RENTABILIDAD\"}},\"legend\":{\"tracegroupgap\":0},\"margin\":{\"t\":60},\"barmode\":\"relative\"},                        {\"responsive\": true}                    ).then(function(){\n",
       "                            \n",
       "var gd = document.getElementById('d9e4f24c-630b-472f-af45-b0df41dfffc5');\n",
       "var x = new MutationObserver(function (mutations, observer) {{\n",
       "        var display = window.getComputedStyle(gd).display;\n",
       "        if (!display || display === 'none') {{\n",
       "            console.log([gd, 'removed!']);\n",
       "            Plotly.purge(gd);\n",
       "            observer.disconnect();\n",
       "        }}\n",
       "}});\n",
       "\n",
       "// Listen for the removal of the full notebook cells\n",
       "var notebookContainer = gd.closest('#notebook-container');\n",
       "if (notebookContainer) {{\n",
       "    x.observe(notebookContainer, {childList: true});\n",
       "}}\n",
       "\n",
       "// Listen for the clearing of the current output cell\n",
       "var outputEl = gd.closest('.output');\n",
       "if (outputEl) {{\n",
       "    x.observe(outputEl, {childList: true});\n",
       "}}\n",
       "\n",
       "                        })                };                });            </script>        </div>"
      ]
     },
     "metadata": {},
     "output_type": "display_data"
    }
   ],
   "source": [
    "fig = px.bar(df_lustro5, x='NOMBRE', y='RENTABILIDAD')\n",
    "fig.show()"
   ]
  }
 ],
 "metadata": {
  "interpreter": {
   "hash": "aee8b7b246df8f9039afb4144a1f6fd8d2ca17a180786b69acc140d282b71a49"
  },
  "kernelspec": {
   "display_name": "Python 3.8.3 64-bit",
   "language": "python",
   "name": "python3"
  },
  "language_info": {
   "codemirror_mode": {
    "name": "ipython",
    "version": 3
   },
   "file_extension": ".py",
   "mimetype": "text/x-python",
   "name": "python",
   "nbconvert_exporter": "python",
   "pygments_lexer": "ipython3",
   "version": "3.8.3"
  },
  "orig_nbformat": 4
 },
 "nbformat": 4,
 "nbformat_minor": 2
}
